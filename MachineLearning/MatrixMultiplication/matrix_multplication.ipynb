{
 "metadata": {
  "language_info": {
   "codemirror_mode": {
    "name": "ipython",
    "version": 3
   },
   "file_extension": ".py",
   "mimetype": "text/x-python",
   "name": "python",
   "nbconvert_exporter": "python",
   "pygments_lexer": "ipython3",
   "version": "3.9.1-final"
  },
  "orig_nbformat": 2,
  "kernelspec": {
   "name": "python3",
   "display_name": "Python 3.9.1 64-bit",
   "metadata": {
    "interpreter": {
     "hash": "63fd5069d213b44bf678585dea6b12cceca9941eaf7f819626cde1f2670de90d"
    }
   }
  }
 },
 "nbformat": 4,
 "nbformat_minor": 2,
 "cells": [
  {
   "source": [
    "## Testing running fortran from jupyternb"
   ],
   "cell_type": "markdown",
   "metadata": {}
  },
  {
   "cell_type": "code",
   "execution_count": 54,
   "metadata": {},
   "outputs": [
    {
     "output_type": "stream",
     "name": "stdout",
     "text": [
      "Overwriting get_age.f95\n"
     ]
    }
   ],
   "source": [
    "%%writefile get_age.f95\n",
    "\n",
    "program get_age\n",
    "    real :: year, age\n",
    "    print *, 'What year were you born?'\n",
    "    read *, year\n",
    "    age = 2021 - year\n",
    "    print *, 'Your age is', age\n",
    "end program get_age"
   ]
  },
  {
   "cell_type": "code",
   "execution_count": 55,
   "metadata": {},
   "outputs": [
    {
     "output_type": "stream",
     "name": "stdout",
     "text": [
      " What year were you born?\n Your age is   28.0000000    \n"
     ]
    }
   ],
   "source": [
    "%%bash\n",
    "\n",
    "gfortran -ffree-form get_age.f95\n",
    "./a.out\n",
    "1993"
   ]
  },
  {
   "cell_type": "code",
   "execution_count": 38,
   "metadata": {},
   "outputs": [
    {
     "output_type": "stream",
     "name": "stdout",
     "text": [
      "Overwriting matrix_multiplication.f95\n"
     ]
    }
   ],
   "source": [
    "%%writefile matrix_multiplication.f95\n",
    "\n",
    "program matrix_multplication\n",
    "    !Get dimensions of matrices\n",
    "    integer :: i, j, k\n",
    "    integer :: x, y, z\n",
    "    integer, allocatable :: A(:,:), B(:,:), C(:,:)\n",
    "    x = 1   !rows of A\n",
    "    y = 16   !cols of A & rows of B\n",
    "    z = 10   !cols of B\n",
    "    allocate(A(x,y), B(y,z), C(x, z))\n",
    "    do i = 1,x\n",
    "        do j = 1,y\n",
    "            A(i, j) = 2\n",
    "        end do\n",
    "    end do\n",
    "\n",
    "    do i = 1,y\n",
    "        do j = 1,z\n",
    "            B(i, j) = 3\n",
    "        end do\n",
    "    end do\n",
    "\n",
    "    print*, C\n",
    "\n",
    "    do  k= 1,z\n",
    "        do i = 1,x\n",
    "            do j = 1,y\n",
    "                C(i,k) = C(i,k) + (A(i,j)*B(j,k))\n",
    "            end do\n",
    "        end do\n",
    "    end do\n",
    "\n",
    "    print*, C, 'done!'\n",
    "\n",
    "\n",
    "end program matrix_multplication\n"
   ]
  },
  {
   "cell_type": "code",
   "execution_count": 28,
   "metadata": {},
   "outputs": [
    {
     "output_type": "stream",
     "name": "stdout",
     "text": [
      "Overwriting matrix_multiplication.f95\n"
     ]
    }
   ],
   "source": [
    "%%writefile matrix_multiplication.f95\n",
    "\n",
    "program matrix_multplication\n",
    "    !Get dimensions of matrices\n",
    "    integer :: i, j, k\n",
    "    integer :: x, y, z\n",
    "    integer, allocatable :: A(:,:), B(:,:), C(:,:)\n",
    "    x = 1   !rows of A\n",
    "    y = 16   !cols of A & rows of B\n",
    "    z = 10000   !cols of B\n",
    "    allocate(A(x,y), B(y,z), C(x, z))\n",
    "    do i = 1,x\n",
    "        do j = 1,y\n",
    "            A(i, j) = 2\n",
    "        end do\n",
    "    end do\n",
    "\n",
    "    do i = 1,y\n",
    "        do j = 1,z\n",
    "            B(i, j) = 3\n",
    "        end do\n",
    "    end do\n",
    "\n",
    "    C = matmul(A, B)\n",
    "\n",
    "    print*, C, 'done!'\n",
    "    \n",
    "\n",
    "end program matrix_multplication"
   ]
  },
  {
   "cell_type": "code",
   "execution_count": 39,
   "metadata": {
    "tags": []
   },
   "outputs": [
    {
     "output_type": "stream",
     "name": "stdout",
     "text": [
      "           0           0           0           0           0           0           0           0           0           0\n          96          96          96          96          96          96          96          96          96          96 done!\n"
     ]
    }
   ],
   "source": [
    "%%bash \n",
    "\n",
    "gfortran -ffree-form matrix_multiplication.f95\n",
    "./a.out"
   ]
  },
  {
   "cell_type": "code",
   "execution_count": null,
   "metadata": {},
   "outputs": [],
   "source": []
  },
  {
   "cell_type": "code",
   "execution_count": null,
   "metadata": {},
   "outputs": [],
   "source": []
  },
  {
   "cell_type": "code",
   "execution_count": null,
   "metadata": {},
   "outputs": [],
   "source": []
  }
 ]
}